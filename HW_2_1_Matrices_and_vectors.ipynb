{
  "cells": [
    {
      "cell_type": "markdown",
      "metadata": {
        "id": "efug1V4CM0lT"
      },
      "source": [
        "### Завдання 1: Створення матриць та векторів\n",
        "1. Створіть `numpy` вектор `vector` розмірністю 10 з випадковими дійсними значеннями в діапазоні від 0 до 1. Можна скористатись двома альтернативними варіантами:\n",
        "  1. Генерація випадкових чисел з модулем [`random.uniform`](https://docs.python.org/3/library/random.html).\n",
        "  2. Створення вектора з допомогою метода `numpy` [np.random.rand](https://numpy.org/doc/stable/reference/random/generated/numpy.random.rand.html)\n",
        "\n",
        "2. Створіть матрицю `matrix` типу `numpy.array` розмірності 3x3 з наступними значеннями\n",
        "\n",
        "  $$\n",
        "  matrix = \\begin{bmatrix}\n",
        "  11 & 14 & 17 \\\\\n",
        "  20 & 23 & 26 \\\\\n",
        "  29 & 32 & 35\n",
        "  \\end{bmatrix}\n",
        "  $$\n",
        "\n",
        "  будь-яким відомими Вам способом.\n",
        "\n",
        "Виведіть на екран вектор і матрицю, а також їх розміри.\n"
      ]
    },
    {
      "cell_type": "code",
      "execution_count": 7,
      "metadata": {},
      "outputs": [],
      "source": [
        "import numpy as np"
      ]
    },
    {
      "cell_type": "code",
      "execution_count": 43,
      "metadata": {
        "id": "jxA_lG2_VIMe"
      },
      "outputs": [
        {
          "name": "stdout",
          "output_type": "stream",
          "text": [
            "Vector:\n",
            " [0.69182169 0.93278825 0.92404858 0.68898698 0.93416288 0.09030281\n",
            " 0.57911264 0.94808615 0.71381843 0.38979219]\n",
            "Vector Shape: (10,)\n",
            "Matrix:\n",
            " [[11 14 17]\n",
            " [20 23 26]\n",
            " [29 32 35]]\n",
            "Matrix Shape: (3, 3)\n"
          ]
        }
      ],
      "source": [
        "vector = np.random.rand(10)\n",
        "# vector = np.random.uniform(0, 1, size=10)\n",
        "\n",
        "M = np.array([[11, 14, 17], [20, 23, 26], [29, 32, 35]])\n",
        "\n",
        "print(\"Vector:\\n\", vector)\n",
        "print(\"Vector Shape:\", vector.shape)\n",
        "print(\"Matrix:\\n\", M)\n",
        "print(\"Matrix Shape:\", M.shape)"
      ]
    },
    {
      "cell_type": "markdown",
      "metadata": {
        "id": "TSJ1P4OuOVe2"
      },
      "source": [
        "\n",
        "### Завдання 2: Операції над векторами та матрицями\n",
        "Виконайте кожну з зазначених операцій над зазначеними оʼєктами і виведіть результат на екран:\n",
        "1. Додайте до кожного значення вектора `vector` число 10 і округліть кожне значення до 2 знаків після коми без використання циклів.\n",
        "2. Помножте кожен елемент матриці з першого завдання на 2 без використання циклів.\n",
        "3. Створіть новий вектор, який містить квадрат кожного `vector` без циклів.\n"
      ]
    },
    {
      "cell_type": "markdown",
      "metadata": {},
      "source": [
        "Відповідь на завдання 2.1"
      ]
    },
    {
      "cell_type": "code",
      "execution_count": 44,
      "metadata": {
        "id": "nAAojtyUVJXN"
      },
      "outputs": [
        {
          "name": "stdout",
          "output_type": "stream",
          "text": [
            "Vector v1 (v + 10, rounded to 2 decimal places):\n",
            " [10.69 10.93 10.92 10.69 10.93 10.09 10.58 10.95 10.71 10.39]\n"
          ]
        }
      ],
      "source": [
        "v1 = np.round(vector + 10, 2)\n",
        "print(\"Vector v1 (v + 10, rounded to 2 decimal places):\\n\", v1)"
      ]
    },
    {
      "cell_type": "markdown",
      "metadata": {},
      "source": [
        "Дана операція відбувається поелементно, тобто кожен елемент вектора збільшується на 10."
      ]
    },
    {
      "cell_type": "markdown",
      "metadata": {},
      "source": [
        "Відповідь на завдання 2.2"
      ]
    },
    {
      "cell_type": "code",
      "execution_count": 45,
      "metadata": {},
      "outputs": [
        {
          "name": "stdout",
          "output_type": "stream",
          "text": [
            "Vector v2 (v * 2):\n",
            " [1.38364337 1.8655765  1.84809716 1.37797396 1.86832577 0.18060562\n",
            " 1.15822527 1.8961723  1.42763686 0.77958438]\n"
          ]
        }
      ],
      "source": [
        "v2 = vector * 2\n",
        "print(\"Vector v2 (v * 2):\\n\", v2)"
      ]
    },
    {
      "cell_type": "markdown",
      "metadata": {},
      "source": [
        "Дана операція відбувається поелементно, тобто кожен елемент вектора перемножується на 2"
      ]
    },
    {
      "cell_type": "markdown",
      "metadata": {},
      "source": [
        "Відповідь на завдання 2.3"
      ]
    },
    {
      "cell_type": "code",
      "execution_count": 46,
      "metadata": {},
      "outputs": [
        {
          "name": "stdout",
          "output_type": "stream",
          "text": [
            "Vector v3 (v squared):\n",
            " [0.47861725 0.87009392 0.85386578 0.47470306 0.8726603  0.0081546\n",
            " 0.33537144 0.89886735 0.50953675 0.15193795]\n"
          ]
        }
      ],
      "source": [
        "v3 = vector ** 2\n",
        "print(\"Vector v3 (v squared):\\n\", v3)"
      ]
    },
    {
      "cell_type": "markdown",
      "metadata": {},
      "source": [
        "Дана операція відбувається поелементно, тобто кожен елемент вектора підноситься до степеня 2"
      ]
    },
    {
      "cell_type": "markdown",
      "metadata": {
        "id": "u6RvWVfhPy-k"
      },
      "source": [
        "\n",
        "### Завдання 3: Множення матриць\n",
        "1. Задані дві матриці `A` і `B`розмірностями 3x2 та 2х3. Виконайте їхнє множення, щоб отримати матрицю 2x2. Виведіть результуючу матрицю `result_matrix` на екран.\n",
        "\n",
        "2. Заданий вектор `C` розмірністю 2х1. Подумайте спочатку, яку розмірність Ви отрмаєте, коли домножите `result_matrix` на вектор `C` і який результат буде. А потім виконайте множення і виведіть результат на екран.\n",
        "\n",
        "3. Задана матриця `D` розмірністю 2х2. Подумайте спочатку, яку розмірність Ви отрмаєте, коли домножите `result_matrix` на матрицю `D` і який результат буде. А потім виконайте множення і виведіть результат на екран."
      ]
    },
    {
      "cell_type": "code",
      "execution_count": 47,
      "metadata": {
        "id": "RwXfPzlbSJ44"
      },
      "outputs": [
        {
          "data": {
            "text/plain": [
              "array([[0.18, 0.53],\n",
              "       [0.75, 0.47],\n",
              "       [0.35, 0.21]])"
            ]
          },
          "metadata": {},
          "output_type": "display_data"
        },
        {
          "data": {
            "text/plain": [
              "array([[0.17, 0.58, 0.75],\n",
              "       [0.38, 0.11, 0.15]])"
            ]
          },
          "metadata": {},
          "output_type": "display_data"
        },
        {
          "data": {
            "text/plain": [
              "array([[0],\n",
              "       [1]])"
            ]
          },
          "metadata": {},
          "output_type": "display_data"
        },
        {
          "data": {
            "text/plain": [
              "array([[0, 1],\n",
              "       [1, 0]])"
            ]
          },
          "metadata": {},
          "output_type": "display_data"
        }
      ],
      "source": [
        "A = np.array(\n",
        "    [[0.18, 0.53],\n",
        "     [0.75, 0.47],\n",
        "     [0.35, 0.21]])\n",
        "\n",
        "B = np.array(\n",
        "    [[0.17, 0.58, 0.75],\n",
        "     [0.38, 0.11, 0.15]])\n",
        "\n",
        "C = np.array([[0], [1]])\n",
        "\n",
        "D = np.array([[0,1], [1,0]])\n",
        "\n",
        "display(A, B, C, D)"
      ]
    },
    {
      "cell_type": "markdown",
      "metadata": {},
      "source": [
        "Відповідь на завдання 3.1"
      ]
    },
    {
      "cell_type": "code",
      "execution_count": 48,
      "metadata": {
        "id": "z7-boTbhVKkj"
      },
      "outputs": [
        {
          "name": "stdout",
          "output_type": "stream",
          "text": [
            "Result of B @ A:\n",
            " [[0.7281 0.5202]\n",
            " [0.2034 0.2846]]\n"
          ]
        }
      ],
      "source": [
        "result_matrix = np.dot(B, A)\n",
        "print(\"Result of B @ A:\\n\", result_matrix)"
      ]
    },
    {
      "cell_type": "markdown",
      "metadata": {},
      "source": [
        "Щоб вивести результуючу матрицю розмірністю 2х2 з матриць розмірністю 3х2 та 2х3 потрібно транспонувати обидві, або ж перемножити В на А, тоді розмірність також буде 2х2 оскільки форму результуюча матриця набирає з правого множника."
      ]
    },
    {
      "cell_type": "markdown",
      "metadata": {},
      "source": [
        "Відповідь на завдання 3.2"
      ]
    },
    {
      "cell_type": "code",
      "execution_count": 49,
      "metadata": {},
      "outputs": [
        {
          "name": "stdout",
          "output_type": "stream",
          "text": [
            "Result of result_matrix * C:\n",
            " [[0.5202]\n",
            " [0.2846]]\n",
            "Shape of result_matrix2: (2, 1)\n"
          ]
        }
      ],
      "source": [
        "result_matrix2 = result_matrix @ C\n",
        "print(\"Result of result_matrix * C:\\n\", result_matrix2)\n",
        "print(\"Shape of result_matrix2:\", result_matrix2.shape)"
      ]
    },
    {
      "cell_type": "markdown",
      "metadata": {},
      "source": [
        "Дана матриця отримає зозмірність її зовнішніх елементів розмірності, 2х2 * 2х1 = 2х1"
      ]
    },
    {
      "cell_type": "markdown",
      "metadata": {},
      "source": [
        "Відповідь на завдання 3.3"
      ]
    },
    {
      "cell_type": "code",
      "execution_count": 50,
      "metadata": {},
      "outputs": [
        {
          "name": "stdout",
          "output_type": "stream",
          "text": [
            "Result of result_matrix * D:\n",
            " [[0.5202 0.7281]\n",
            " [0.2846 0.2034]]\n",
            "Shape of result_matrix3: (2, 2)\n"
          ]
        }
      ],
      "source": [
        "result_matrix3 = result_matrix @ D\n",
        "print(\"Result of result_matrix * D:\\n\", result_matrix3)\n",
        "print(\"Shape of result_matrix3:\", result_matrix3.shape)"
      ]
    },
    {
      "cell_type": "markdown",
      "metadata": {},
      "source": [
        "Дана матриця отримає розмірність її зовнішніх елементів розмірності, 2х2 * 2х2 = 2х2"
      ]
    },
    {
      "cell_type": "markdown",
      "metadata": {
        "id": "wohp0_cxSGpl"
      },
      "source": [
        "\n",
        "### Завдання 4: Транспонування матриць\n",
        "1. Транспонуйте `result_matrix`.\n",
        "2. Зробіть транспонування вектора `vector` і виведіть форму нової структури. Чи бачите ви зміну?\n",
        "3. Використайте операцію `numpy.expand_dims` над вектором `vector` з аргументом axis=1. Запишіть отриманий результат в змінну `column_vector` і виведіть на екран. Порівняйте з `vector`.\n",
        "4. Зробіть транспонування `column_vector`, виведіть результат на екран разом з розмірностями отриманої структури.\n",
        "\n",
        "\n"
      ]
    },
    {
      "cell_type": "markdown",
      "metadata": {},
      "source": [
        "Відповідь на завдання 4.1"
      ]
    },
    {
      "cell_type": "code",
      "execution_count": 51,
      "metadata": {
        "id": "4hFcq1baVLii"
      },
      "outputs": [
        {
          "name": "stdout",
          "output_type": "stream",
          "text": [
            "Result of B @ A (transposed):\n",
            " [[0.7281 0.2034]\n",
            " [0.5202 0.2846]]\n"
          ]
        }
      ],
      "source": [
        "result_matrix = result_matrix.T\n",
        "print(\"Result of B @ A (transposed):\\n\", result_matrix)\n"
      ]
    },
    {
      "cell_type": "markdown",
      "metadata": {},
      "source": [
        "Після транспонування рядки початкової матриці стануть стовпцями, а стовпці - рядками"
      ]
    },
    {
      "cell_type": "markdown",
      "metadata": {},
      "source": [
        "Відповідь на завдання 4.2"
      ]
    },
    {
      "cell_type": "code",
      "execution_count": 52,
      "metadata": {},
      "outputs": [
        {
          "name": "stdout",
          "output_type": "stream",
          "text": [
            "Vector v (transposed):\n",
            " [0.69182169 0.93278825 0.92404858 0.68898698 0.93416288 0.09030281\n",
            " 0.57911264 0.94808615 0.71381843 0.38979219]\n",
            "Shape of transposed vector v: (10,)\n"
          ]
        }
      ],
      "source": [
        "vector = vector.T\n",
        "print(\"Vector v (transposed):\\n\", vector)\n",
        "print(\"Shape of transposed vector v:\", vector.shape)"
      ]
    },
    {
      "cell_type": "markdown",
      "metadata": {},
      "source": [
        "Транспонування vector не змінює його форму, бо це 1D масив"
      ]
    },
    {
      "cell_type": "markdown",
      "metadata": {},
      "source": [
        "Відповідь на завдання 4.3"
      ]
    },
    {
      "cell_type": "code",
      "execution_count": 53,
      "metadata": {},
      "outputs": [
        {
          "name": "stdout",
          "output_type": "stream",
          "text": [
            "Column vector (v expanded):\n",
            " [[0.69182169]\n",
            " [0.93278825]\n",
            " [0.92404858]\n",
            " [0.68898698]\n",
            " [0.93416288]\n",
            " [0.09030281]\n",
            " [0.57911264]\n",
            " [0.94808615]\n",
            " [0.71381843]\n",
            " [0.38979219]]\n"
          ]
        }
      ],
      "source": [
        "column_vector = np.expand_dims(vector, axis=1)\n",
        "print(\"Column vector (v expanded):\\n\", column_vector)"
      ]
    },
    {
      "cell_type": "markdown",
      "metadata": {},
      "source": [
        "Ми міняємо форму вектора з рядка на стовпець"
      ]
    },
    {
      "cell_type": "markdown",
      "metadata": {},
      "source": [
        "Відповідь на завдання 4.4"
      ]
    },
    {
      "cell_type": "code",
      "execution_count": 56,
      "metadata": {},
      "outputs": [
        {
          "name": "stdout",
          "output_type": "stream",
          "text": [
            "Column vector (v expanded and transposed):\n",
            " [[0.69182169 0.93278825 0.92404858 0.68898698 0.93416288 0.09030281\n",
            "  0.57911264 0.94808615 0.71381843 0.38979219]]\n",
            "Shape of column vector: (1, 10)\n"
          ]
        }
      ],
      "source": [
        "column_vector = column_vector.T\n",
        "print(\"Column vector (v expanded and transposed):\\n\", column_vector)\n",
        "print(\"Shape of column vector:\", column_vector.shape)"
      ]
    }
  ],
  "metadata": {
    "colab": {
      "provenance": []
    },
    "kernelspec": {
      "display_name": "base",
      "language": "python",
      "name": "python3"
    },
    "language_info": {
      "codemirror_mode": {
        "name": "ipython",
        "version": 3
      },
      "file_extension": ".py",
      "mimetype": "text/x-python",
      "name": "python",
      "nbconvert_exporter": "python",
      "pygments_lexer": "ipython3",
      "version": "3.12.7"
    }
  },
  "nbformat": 4,
  "nbformat_minor": 0
}
